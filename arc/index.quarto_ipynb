{
  "cells": [
    {
      "cell_type": "markdown",
      "metadata": {},
      "source": [
        "---\n",
        "format:\n",
        "  revealjs:\n",
        "    theme: [serif, ../css/slides.scss]\n",
        "    transition: slide\n",
        "    transition-speed: fast\n",
        "    background-transition: fade\n",
        "  html:\n",
        "    standalone: true\n",
        "    embed-resources: true\n",
        "author: \"Jon Reades & Andy MacLachlan\"\n",
        "footer: \"Jon Reades & Andy MacLachlan (CASA @ UCL)\"\n",
        "highlight-style: github\n",
        "code-copy: true\n",
        "code-line-numbers: true\n",
        "slide-level: 2\n",
        "title-slide-attributes:\n",
        "  data-background-image: ../img/CASA_Logo_no_text.png\n",
        "  data-background-size: cover\n",
        "  data-background-position: center\n",
        "  data-background-opacity: \"0.17\"\n",
        "logo: ../img/CASA_Logo_no_text.png\n",
        "fig-cap-location: top\n",
        "history: false\n",
        "css: ../css/slides.css\n",
        "---"
      ],
      "id": "f6e05163"
    },
    {
      "cell_type": "code",
      "metadata": {},
      "source": [
        "#| echo: false\n",
        "import re\n",
        "import numpy as np\n",
        "import pandas as pd\n",
        "import seaborn as sns\n",
        "from matplotlib import pyplot as plt"
      ],
      "id": "db944fb9",
      "execution_count": null,
      "outputs": []
    },
    {
      "cell_type": "markdown",
      "metadata": {},
      "source": [
        "# {background-image=\"./img/SDSV pic 1-edited.png\" background-opacity=\".12\"}\n",
        "\n",
        "::: {.r-fit-text} \n",
        "\n",
        "There and Back Again<br />\n",
        "A Reproducibility Tale\n",
        "\n",
        ":::\n",
        "\n",
        "::: {.notes}\n",
        "\n",
        ":::\n",
        "\n",
        "## {background-image=\"./img/SDSV pic 2-edited.png\" background-opacity=.15}\n",
        "\n",
        "::: {.r-fit-text}\n",
        "\n",
        "Questions?\n",
        "\n",
        ":::\n",
        "\n",
        "::: {.notes}\n",
        "\n",
        ":::\n"
      ],
      "id": "484eb7be"
    }
  ],
  "metadata": {
    "kernelspec": {
      "display_name": "Python 3",
      "language": "python",
      "name": "python3"
    }
  },
  "nbformat": 4,
  "nbformat_minor": 5
}